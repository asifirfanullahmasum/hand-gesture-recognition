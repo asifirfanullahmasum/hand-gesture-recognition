{
 "cells": [
  {
   "cell_type": "code",
   "execution_count": 1,
   "metadata": {},
   "outputs": [],
   "source": [
    "import numpy as np\n",
    "import matplotlib.pyplot as plt\n",
    "import os\n",
    "import cv2\n",
    "import random\n",
    "from skimage import color\n",
    "from skimage.feature import hog\n",
    "from sklearn.model_selection import train_test_split\n",
    "from sklearn.model_selection import cross_val_score\n",
    "from sklearn import svm\n",
    "from sklearn import metrics"
   ]
  },
  {
   "cell_type": "code",
   "execution_count": 2,
   "metadata": {},
   "outputs": [],
   "source": [
    "DATADIR = os.getcwd() + \"\\Pipeline\\Segmented Clustered Dataset\"\n",
    "scale_percent = 25\n",
    "CATEGORIES = [\"Gesture(0)\", \"Gesture(1)\", \"Gesture(2)\", \"Gesture(3)\", \"Gesture(4)\", \"Gesture(5)\", \"Gesture(6)\", \"Gesture(7)\", \"Gesture(8)\", \"Gesture(9)\"]\n",
    "training_data = []\n",
    "\n",
    "def create_training_data():\n",
    "    for category in CATEGORIES:  # do dogs and cats\n",
    "\n",
    "        path = os.path.join(DATADIR,category)  # create path to dogs and cats\n",
    "        class_num = CATEGORIES.index(category)  # get the classification  (0 or a 1). 0=dog 1=cat\n",
    "        \n",
    "        for img in os.listdir(path):  # iterate over each image per dogs and cats\n",
    "                img_array = cv2.imread(os.path.join(path,img))  # convert to array\n",
    "                #calculate the 50 percent of original dimensions\n",
    "                gray = cv2.cvtColor(img_array, cv2.COLOR_BGR2GRAY)\n",
    "                # dsize\n",
    "                dsize = (300, 300)\n",
    "                new_array = cv2.resize(gray, dsize)\n",
    "                training_data.append([new_array, class_num])  # add this to our training_data\n",
    "                \n",
    "create_training_data()"
   ]
  },
  {
   "cell_type": "code",
   "execution_count": null,
   "metadata": {},
   "outputs": [],
   "source": [
    "random.shuffle(training_data)\n",
    "ppc = 16\n",
    "hog_images = []\n",
    "hog_features = []\n",
    "labels = []\n",
    "\n",
    "for gray,label in training_data:\n",
    "    fd, hog_image = hog(gray, orientations=8, pixels_per_cell=(16, 16), cells_per_block=(4, 4), visualize=True)\n",
    "    hog_features.append(fd)\n",
    "    labels.append(label)\n",
    "\n",
    "hog_features = np.array(hog_features)\n",
    "labels = np.array(labels)"
   ]
  },
  {
   "cell_type": "code",
   "execution_count": null,
   "metadata": {
    "scrolled": true
   },
   "outputs": [],
   "source": [
    "from sklearn.preprocessing import StandardScaler\n",
    "scaler = StandardScaler()\n",
    "hog_features = scaler.fit_transform(hog_features)\n",
    "print(hog_features)\n",
    "svm1 = svm.SVC(kernel='linear')\n",
    "svm2 = svm.SVC(kernel='poly')\n",
    "svm3 = svm.SVC(kernel='rbf')"
   ]
  },
  {
   "cell_type": "code",
   "execution_count": null,
   "metadata": {},
   "outputs": [],
   "source": [
    "print('Training Started')\n",
    "scores_acc = cross_val_score(svm1, hog_features, labels, cv=3, scoring='accuracy')\n",
    "scores_prec = cross_val_score(svm1, hog_features, labels, cv=3, scoring='precision_weighted')\n",
    "scores_rcl = cross_val_score(svm1, hog_features, labels, cv=3, scoring='recall_weighted')\n",
    "\n",
    "print(\"Accuracy: %0.2f (+/- %0.2f)\" % (scores_acc.mean(), scores_acc.std() * 2))\n",
    "print('\\n')\n",
    "print(\"Precision: %0.2f (+/- %0.2f)\" % (scores_prec.mean(), scores_prec.std() * 2))\n",
    "print('\\n')\n",
    "print(\"Recall: %0.2f (+/- %0.2f)\" % (scores_rcl.mean(), scores_rcl.std() * 2))\n",
    "print('\\n')"
   ]
  }
 ],
 "metadata": {
  "kernelspec": {
   "display_name": "Python 3 (ipykernel)",
   "language": "python",
   "name": "python3"
  },
  "language_info": {
   "codemirror_mode": {
    "name": "ipython",
    "version": 3
   },
   "file_extension": ".py",
   "mimetype": "text/x-python",
   "name": "python",
   "nbconvert_exporter": "python",
   "pygments_lexer": "ipython3",
   "version": "3.9.7"
  }
 },
 "nbformat": 4,
 "nbformat_minor": 2
}
